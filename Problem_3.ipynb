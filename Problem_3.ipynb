{
 "cells": [
  {
   "cell_type": "markdown",
   "metadata": {},
   "source": [
    "# Problem 3: Visualizations and CAM\n",
    "\n",
    "* <b>Learning Objective:</b> In problem 2, you were asked to use TensorFlow to design and train convolutional neural networks. In this part of the assignment, you are going to play with some fun visualization tricks. We will provide the pretrained models of two well-known CNN architectures: AlexNet and VGG-16 Net to demonstrate visual patterns learned in the filters. In the last part, we introduce Grad-CAM, which visualizes the attended heat map, where the CNN looks at while predicting the labels of the images.\n",
    "\n",
    "* <b>Provided Codes:</b> We provide the necessary code blocks for each section.\n",
    "* <b>TODOs:</b> Follow the instructions to complete the TODO parts."
   ]
  },
  {
   "cell_type": "code",
   "execution_count": 1,
   "metadata": {},
   "outputs": [
    {
     "name": "stderr",
     "output_type": "stream",
     "text": [
      "/home/hitarth/anaconda3/envs/cs566/lib/python3.7/site-packages/tensorflow/python/framework/dtypes.py:516: FutureWarning: Passing (type, 1) or '1type' as a synonym of type is deprecated; in a future version of numpy, it will be understood as (type, (1,)) / '(1,)type'.\n",
      "  _np_qint8 = np.dtype([(\"qint8\", np.int8, 1)])\n",
      "/home/hitarth/anaconda3/envs/cs566/lib/python3.7/site-packages/tensorflow/python/framework/dtypes.py:517: FutureWarning: Passing (type, 1) or '1type' as a synonym of type is deprecated; in a future version of numpy, it will be understood as (type, (1,)) / '(1,)type'.\n",
      "  _np_quint8 = np.dtype([(\"quint8\", np.uint8, 1)])\n",
      "/home/hitarth/anaconda3/envs/cs566/lib/python3.7/site-packages/tensorflow/python/framework/dtypes.py:518: FutureWarning: Passing (type, 1) or '1type' as a synonym of type is deprecated; in a future version of numpy, it will be understood as (type, (1,)) / '(1,)type'.\n",
      "  _np_qint16 = np.dtype([(\"qint16\", np.int16, 1)])\n",
      "/home/hitarth/anaconda3/envs/cs566/lib/python3.7/site-packages/tensorflow/python/framework/dtypes.py:519: FutureWarning: Passing (type, 1) or '1type' as a synonym of type is deprecated; in a future version of numpy, it will be understood as (type, (1,)) / '(1,)type'.\n",
      "  _np_quint16 = np.dtype([(\"quint16\", np.uint16, 1)])\n",
      "/home/hitarth/anaconda3/envs/cs566/lib/python3.7/site-packages/tensorflow/python/framework/dtypes.py:520: FutureWarning: Passing (type, 1) or '1type' as a synonym of type is deprecated; in a future version of numpy, it will be understood as (type, (1,)) / '(1,)type'.\n",
      "  _np_qint32 = np.dtype([(\"qint32\", np.int32, 1)])\n",
      "/home/hitarth/anaconda3/envs/cs566/lib/python3.7/site-packages/tensorflow/python/framework/dtypes.py:525: FutureWarning: Passing (type, 1) or '1type' as a synonym of type is deprecated; in a future version of numpy, it will be understood as (type, (1,)) / '(1,)type'.\n",
      "  np_resource = np.dtype([(\"resource\", np.ubyte, 1)])\n",
      "/home/hitarth/anaconda3/envs/cs566/lib/python3.7/site-packages/tensorboard/compat/tensorflow_stub/dtypes.py:541: FutureWarning: Passing (type, 1) or '1type' as a synonym of type is deprecated; in a future version of numpy, it will be understood as (type, (1,)) / '(1,)type'.\n",
      "  _np_qint8 = np.dtype([(\"qint8\", np.int8, 1)])\n",
      "/home/hitarth/anaconda3/envs/cs566/lib/python3.7/site-packages/tensorboard/compat/tensorflow_stub/dtypes.py:542: FutureWarning: Passing (type, 1) or '1type' as a synonym of type is deprecated; in a future version of numpy, it will be understood as (type, (1,)) / '(1,)type'.\n",
      "  _np_quint8 = np.dtype([(\"quint8\", np.uint8, 1)])\n",
      "/home/hitarth/anaconda3/envs/cs566/lib/python3.7/site-packages/tensorboard/compat/tensorflow_stub/dtypes.py:543: FutureWarning: Passing (type, 1) or '1type' as a synonym of type is deprecated; in a future version of numpy, it will be understood as (type, (1,)) / '(1,)type'.\n",
      "  _np_qint16 = np.dtype([(\"qint16\", np.int16, 1)])\n",
      "/home/hitarth/anaconda3/envs/cs566/lib/python3.7/site-packages/tensorboard/compat/tensorflow_stub/dtypes.py:544: FutureWarning: Passing (type, 1) or '1type' as a synonym of type is deprecated; in a future version of numpy, it will be understood as (type, (1,)) / '(1,)type'.\n",
      "  _np_quint16 = np.dtype([(\"quint16\", np.uint16, 1)])\n",
      "/home/hitarth/anaconda3/envs/cs566/lib/python3.7/site-packages/tensorboard/compat/tensorflow_stub/dtypes.py:545: FutureWarning: Passing (type, 1) or '1type' as a synonym of type is deprecated; in a future version of numpy, it will be understood as (type, (1,)) / '(1,)type'.\n",
      "  _np_qint32 = np.dtype([(\"qint32\", np.int32, 1)])\n",
      "/home/hitarth/anaconda3/envs/cs566/lib/python3.7/site-packages/tensorboard/compat/tensorflow_stub/dtypes.py:550: FutureWarning: Passing (type, 1) or '1type' as a synonym of type is deprecated; in a future version of numpy, it will be understood as (type, (1,)) / '(1,)type'.\n",
      "  np_resource = np.dtype([(\"resource\", np.ubyte, 1)])\n"
     ]
    }
   ],
   "source": [
    "# A bit of setups\n",
    "import tensorflow as tf\n",
    "\n",
    "from tensorflow.python.framework import ops\n",
    "from tensorflow.python.ops import gen_nn_ops\n",
    "from lib.datasets import *\n",
    "\n",
    "from matplotlib import pyplot as plt\n",
    "from matplotlib.pyplot import imshow\n",
    "import matplotlib.image as mpimg\n",
    "\n",
    "%matplotlib inline\n",
    "%reload_ext autoreload\n",
    "%autoreload 2"
   ]
  },
  {
   "cell_type": "markdown",
   "metadata": {},
   "source": [
    "### Download the Model\n",
    "Download the vgg16 pretrained model from the [ftp://mi.eng.cam.ac.uk/pub/mttt2/models/vgg16.npy](ftp://mi.eng.cam.ac.uk/pub/mttt2/models/vgg16.npy)  \n",
    "Download the AlexNet pretrained model from the link [BVLC_ALEXNET](http://www.cs.toronto.edu/~guerzhoy/tf_alexnet/bvlc_alexnet.npy)  \n",
    "And save the two models (.npy files) to `lib/tf_models/`"
   ]
  },
  {
   "cell_type": "code",
   "execution_count": 3,
   "metadata": {},
   "outputs": [],
   "source": [
    "import numpy as np\n",
    "from lib.tf_models import vgg16\n",
    "import os\n",
    "import math"
   ]
  },
  {
   "cell_type": "markdown",
   "metadata": {},
   "source": [
    "### Visualizing learned filters [4pt]\n",
    "In this section we will show you how to visualize the learned convolutional filters."
   ]
  },
  {
   "cell_type": "code",
   "execution_count": 4,
   "metadata": {},
   "outputs": [
    {
     "name": "stdout",
     "output_type": "stream",
     "text": [
      "WARNING:tensorflow:From /home/hitarth/PycharmProjects/csci566-assignment1/lib/tf_models/vgg16.py:15: The name tf.placeholder is deprecated. Please use tf.compat.v1.placeholder instead.\n",
      "\n",
      "Model from /home/hitarth/PycharmProjects/csci566-assignment1/lib/tf_models/vgg16.npy\n",
      "Pretrained VGG16 successfully loaded!\n",
      "WARNING:tensorflow:From /home/hitarth/PycharmProjects/csci566-assignment1/lib/tf_models/vgg16.py:74: The name tf.variable_scope is deprecated. Please use tf.compat.v1.variable_scope instead.\n",
      "\n",
      "WARNING:tensorflow:From /home/hitarth/PycharmProjects/csci566-assignment1/lib/tf_models/vgg16.py:95: The name tf.nn.max_pool is deprecated. Please use tf.nn.max_pool2d instead.\n",
      "\n"
     ]
    }
   ],
   "source": [
    "# Define the vgg network for visualizations\n",
    "vgg_viz = vgg16.Vgg16()\n",
    "vgg_viz.load()\n",
    "vgg_viz.setup()"
   ]
  },
  {
   "cell_type": "code",
   "execution_count": 5,
   "metadata": {},
   "outputs": [],
   "source": [
    "# Useful function to arrange the images to be shown as a squared grid\n",
    "def viz_grid(Xs, ubound=255.0, padding=1):\n",
    "    N, H, W, C = Xs.shape\n",
    "    grid_size = int(math.ceil(math.sqrt(N)))\n",
    "    grid_height = H * grid_size + padding * (grid_size - 1)\n",
    "    grid_width = W * grid_size + padding * (grid_size - 1)\n",
    "    grid = np.zeros((grid_height, grid_width, C))\n",
    "    next_idx = 0\n",
    "    y0, y1 = 0, H\n",
    "    for y in range(grid_size):\n",
    "        x0, x1 = 0, W\n",
    "        for x in range(grid_size):\n",
    "            if next_idx < N:\n",
    "                img = Xs[next_idx]\n",
    "                grid[y0:y1, x0:x1] = img\n",
    "                next_idx += 1\n",
    "            x0 += W + padding\n",
    "            x1 += W + padding\n",
    "        y0 += H + padding\n",
    "        y1 += H + padding\n",
    "    return grid"
   ]
  },
  {
   "cell_type": "code",
   "execution_count": 13,
   "metadata": {
    "scrolled": false
   },
   "outputs": [
    {
     "name": "stdout",
     "output_type": "stream",
     "text": [
      "Model from lib/tf_models/bvlc_alexnet.npy\n",
      "Pretrained AlexNet successfully loaded!\n",
      "w_01 shape: (11, 11, 3, 96)\n",
      "Model from lib/tf_models/vgg16.npy\n",
      "Pretrained Vgg-16 successfully loaded!\n",
      "w_01 shape: (3, 3, 3, 64)\n"
     ]
    },
    {
     "data": {
      "image/png": "[encoded data removed]",
      "text/plain": [
       "<Figure size 576x576 with 1 Axes>"
      ]
     },
     "metadata": {
      "needs_background": "light"
     },
     "output_type": "display_data"
    },
    {
     "data": {
      "image/png": "[encoded data removed]",
      "text/plain": [
       "<Figure size 576x576 with 1 Axes>"
      ]
     },
     "metadata": {
      "needs_background": "light"
     },
     "output_type": "display_data"
    }
   ],
   "source": [
    "model_paths = {\n",
    "    \"Vgg-16\": os.path.join(\"lib\", \"tf_models\", \"vgg16.npy\"),\n",
    "    \"AlexNet\": os.path.join(\"lib\", \"tf_models\", \"bvlc_alexnet.npy\")\n",
    "}\n",
    "\n",
    "for net in sorted(model_paths):\n",
    "    model_path = model_paths[net]\n",
    "    print(\"Model from {}\".format(model_path))\n",
    "    pretrained = np.load(model_path, encoding='latin1', allow_pickle=True).item()\n",
    "    print(\"Pretrained {} successfully loaded!\".format(net))\n",
    "\n",
    "    first_conv = \"conv1_1\" if net == \"Vgg-16\" else \"conv1\"\n",
    "    \n",
    "    conv1 = pretrained[first_conv]\n",
    "    #############################################################################\n",
    "    # TODO: Extract the weight and bias from conv1                              #\n",
    "    # HINT: Examine the data type of conv1?                                     #\n",
    "    #############################################################################\n",
    "    \n",
    "    weights = conv1[0]\n",
    "    biases = conv1[1]\n",
    "    \n",
    "    #############################################################################\n",
    "    # TODO: Scale the kernel weights, so that they lie in [0,1].                #\n",
    "    # In order to get the relative information across filters, you should scale #\n",
    "    # across all the filters, and not individually.                             #\n",
    "    #############################################################################\n",
    "    min_value = np.min(weights)\n",
    "    max_value = np.max(weights)\n",
    "    w_01 = (weights-min_value)/(max_value - min_value)\n",
    "    \n",
    "    print(f'w_01 shape: {w_01.shape}')\n",
    "    #############################################################################\n",
    "    # TODO: Transpose the scaled kernel weights so that the                     #\n",
    "    # number of filters comes first in the dimension as (n, H, W, C)            #\n",
    "    #############################################################################\n",
    "    rgb_w = w_01.transpose(3, 0, 1, 2)\n",
    "\n",
    "    # Define a figure\n",
    "    fig = plt.figure(figsize=(8,8))   \n",
    "    ax1 = plt.subplot(111)\n",
    "    \n",
    "    # Grid the rgb_w\n",
    "    grid = viz_grid(rgb_w)\n",
    "\n",
    "    ax1.imshow(grid[...,::-1])\n",
    "    ax1.set_title('{} Learned First Conv Filters'.format(net), fontsize=16)"
   ]
  },
  {
   "cell_type": "markdown",
   "metadata": {},
   "source": [
    "## Visualizing convolution neural network filters from Problem 2"
   ]
  },
  {
   "cell_type": "markdown",
   "metadata": {},
   "source": [
    "### Load CIFAR-10 Data"
   ]
  },
  {
   "cell_type": "code",
   "execution_count": 14,
   "metadata": {},
   "outputs": [],
   "source": [
    "data_train, labels_train, data_test, labels_test = CIFAR10(os.path.join('data', 'cifar-10-batches-py'))"
   ]
  },
  {
   "cell_type": "markdown",
   "metadata": {},
   "source": [
    "### <font color=\"Scarlet\">Run the following lines of code, and whenever you encounter problems with tf graph, rerun them again<font>"
   ]
  },
  {
   "cell_type": "code",
   "execution_count": 15,
   "metadata": {},
   "outputs": [],
   "source": [
    "tf.reset_default_graph()\n",
    "sess = tf.Session()"
   ]
  },
  {
   "cell_type": "markdown",
   "metadata": {},
   "source": [
    "### Copy layers from Problem 2\n",
    "Copy and paste your implementation for all of your layers in problem 2 to below"
   ]
  },
  {
   "cell_type": "code",
   "execution_count": null,
   "metadata": {},
   "outputs": [],
   "source": [
    "#############################################################################\n",
    "# TODO: Define conv2d, max_pool, flatten, fc, norm functions - same as in Problem 2.\n",
    "# Simply Copy & Paste your code block (with implementation) for layers here\n",
    "#############################################################################\n",
    "\n"
   ]
  },
  {
   "cell_type": "markdown",
   "metadata": {},
   "source": [
    "### Copy convolutional neural network from Problem 2 - Base Model\n",
    "Copy and paste your implementation for the class BaseModel in problem 2 to below:"
   ]
  },
  {
   "cell_type": "code",
   "execution_count": null,
   "metadata": {},
   "outputs": [],
   "source": [
    "#############################################################################\n",
    "# TODO: Define BaseModel - same as in Problem 2.\n",
    "# Simply Copy & Paste your code block (with implementation) for BaseModel here\n",
    "# We will load your saved model below.\n",
    "#############################################################################\n",
    "\n"
   ]
  },
  {
   "cell_type": "markdown",
   "metadata": {},
   "source": [
    "### Copy convolutional neural network from Problem 2 - Your Model\n",
    "Copy and paste your implementation for the class YourModel in problem 2 to below:"
   ]
  },
  {
   "cell_type": "code",
   "execution_count": null,
   "metadata": {},
   "outputs": [],
   "source": [
    "#############################################################################\n",
    "# TODO: Define YourModel - same as in Problem 2.\n",
    "# Simply Copy & Paste your code block (with implementation) for YourModel here.\n",
    "# We will load your saved model below.\n",
    "#############################################################################\n",
    "\n"
   ]
  },
  {
   "cell_type": "markdown",
   "metadata": {},
   "source": [
    "### Visualize the learned filters on your trained CIFAR-10 network!\n",
    "Here we will repeat the above procedure that we did for AlexNet and VGG on your own trained networks, for the first convolutional layer."
   ]
  },
  {
   "cell_type": "code",
   "execution_count": null,
   "metadata": {},
   "outputs": [],
   "source": [
    "def restore_model(saved_file):\n",
    "    # Restore the model using parameters dict\n",
    "    variables = tf.global_variables()\n",
    "    param_dict = {}\n",
    "    for var in variables:\n",
    "        var_name = var.name[:-2]\n",
    "        print('Loading {} from checkpoint. Name: {}'.format(var.name, var_name))\n",
    "        param_dict[var_name] = var\n",
    "    saver = tf.train.Saver()\n",
    "    saver.restore(sess, os.path.join('lib', 'tf_models', 'problem2', saved_file))"
   ]
  },
  {
   "cell_type": "code",
   "execution_count": null,
   "metadata": {},
   "outputs": [],
   "source": [
    "# TODO:\n",
    "def viz_model(model_name):\n",
    "    with sess.as_default():\n",
    "        with tf.variable_scope(\"conv1\", reuse=True):\n",
    "            conv1 = tf.get_variable(\"w\")\n",
    "            b1    = tf.get_variable(\"b\")\n",
    "        print (conv1.shape, b1.shape)\n",
    "\n",
    "        #############################################################################\n",
    "        # TODO: Extract the weight and bias from conv1                              #\n",
    "        # For tf models, you should use .eval() function on variables               #\n",
    "        #############################################################################\n",
    "\n",
    "\n",
    "        #############################################################################\n",
    "        # TODO: Scale the kernel weights to [0,1]                                   #\n",
    "        # Hint: Same as you did above                                               #\n",
    "        #############################################################################\n",
    "        w_01 = None\n",
    "\n",
    "        #############################################################################\n",
    "        # TODO: Transpose the scaled kernel weights so that the                     # \n",
    "        # number of filters comes first in the dimension (n, H, W, C)               #\n",
    "        # Hint: Same as you did above                                               #\n",
    "        #############################################################################\n",
    "        rgb_w = None\n",
    "\n",
    "        # Define a figure\n",
    "        fig = plt.figure(figsize=(8,8))   \n",
    "        ax1 = plt.subplot(111)\n",
    "\n",
    "        grid = viz_grid(rgb_w)\n",
    "\n",
    "        ax1.imshow(grid[...,::-1])\n",
    "        ax1.set_title('{} Learned First Conv Filters'.format(model_name), fontsize=16)"
   ]
  },
  {
   "cell_type": "markdown",
   "metadata": {},
   "source": [
    "### Visualize Base Model [5pt]"
   ]
  },
  {
   "cell_type": "code",
   "execution_count": null,
   "metadata": {},
   "outputs": [],
   "source": [
    "# Reset TF Graph\n",
    "tf.reset_default_graph()\n",
    "sess = tf.Session()\n",
    "\n",
    "# Load BaseModel\n",
    "model = BaseModel()\n",
    "restore_model('csci-599_sample.ckpt')\n",
    "viz_model('Base Model')"
   ]
  },
  {
   "cell_type": "markdown",
   "metadata": {},
   "source": [
    "### Visualize Your Model [5pt]"
   ]
  },
  {
   "cell_type": "code",
   "execution_count": null,
   "metadata": {},
   "outputs": [],
   "source": [
    "# Reset TF Graph\n",
    "tf.reset_default_graph()\n",
    "sess = tf.Session()\n",
    "\n",
    "# Load BaseModel\n",
    "model = YourModel()\n",
    "restore_model('csci-599_mine.ckpt')\n",
    "viz_model('Your Model')"
   ]
  },
  {
   "cell_type": "markdown",
   "metadata": {},
   "source": [
    "### Inline Question: Do you see any difference in the visualizations of these two models? Explain why or why not. [2pt]\n",
    "#### Ans:"
   ]
  },
  {
   "cell_type": "markdown",
   "metadata": {},
   "source": [
    "## Visualizing Activations\n",
    "Now that we have seen the learned filters, and observed that they have some patterns, we will go one step further to visualize the activation maps produced by different convolutional filters. You will see that as we go deeper through the layers of a network the activation maps gradually represent higher and higher levels of abstraction in the images.\n",
    "Now, let's get some warm-up by running the following visualization code blocks for a simple model trained on MNIST dataset."
   ]
  },
  {
   "cell_type": "code",
   "execution_count": 16,
   "metadata": {},
   "outputs": [],
   "source": [
    "import tensorflow.contrib.slim as slim\n",
    "from tensorflow.examples.tutorials.mnist import input_data"
   ]
  },
  {
   "cell_type": "code",
   "execution_count": 17,
   "metadata": {},
   "outputs": [
    {
     "name": "stdout",
     "output_type": "stream",
     "text": [
      "WARNING:tensorflow:From <ipython-input-17-ab89ce15b6b2>:1: read_data_sets (from tensorflow.contrib.learn.python.learn.datasets.mnist) is deprecated and will be removed in a future version.\n",
      "Instructions for updating:\n",
      "Please use alternatives such as official/mnist/dataset.py from tensorflow/models.\n",
      "WARNING:tensorflow:From /home/hitarth/anaconda3/envs/cs566/lib/python3.7/site-packages/tensorflow/contrib/learn/python/learn/datasets/mnist.py:260: maybe_download (from tensorflow.contrib.learn.python.learn.datasets.base) is deprecated and will be removed in a future version.\n",
      "Instructions for updating:\n",
      "Please write your own downloading logic.\n",
      "WARNING:tensorflow:From /home/hitarth/anaconda3/envs/cs566/lib/python3.7/site-packages/tensorflow/contrib/learn/python/learn/datasets/base.py:252: _internal_retry.<locals>.wrap.<locals>.wrapped_fn (from tensorflow.contrib.learn.python.learn.datasets.base) is deprecated and will be removed in a future version.\n",
      "Instructions for updating:\n",
      "Please use urllib or similar directly.\n",
      "Successfully downloaded train-images-idx3-ubyte.gz 9912422 bytes.\n",
      "WARNING:tensorflow:From /home/hitarth/anaconda3/envs/cs566/lib/python3.7/site-packages/tensorflow/contrib/learn/python/learn/datasets/mnist.py:262: extract_images (from tensorflow.contrib.learn.python.learn.datasets.mnist) is deprecated and will be removed in a future version.\n",
      "Instructions for updating:\n",
      "Please use tf.data to implement this functionality.\n",
      "Extracting data/MNIST_data/train-images-idx3-ubyte.gz\n",
      "Successfully downloaded train-labels-idx1-ubyte.gz 28881 bytes.\n",
      "WARNING:tensorflow:From /home/hitarth/anaconda3/envs/cs566/lib/python3.7/site-packages/tensorflow/contrib/learn/python/learn/datasets/mnist.py:267: extract_labels (from tensorflow.contrib.learn.python.learn.datasets.mnist) is deprecated and will be removed in a future version.\n",
      "Instructions for updating:\n",
      "Please use tf.data to implement this functionality.\n",
      "Extracting data/MNIST_data/train-labels-idx1-ubyte.gz\n",
      "WARNING:tensorflow:From /home/hitarth/anaconda3/envs/cs566/lib/python3.7/site-packages/tensorflow/contrib/learn/python/learn/datasets/mnist.py:110: dense_to_one_hot (from tensorflow.contrib.learn.python.learn.datasets.mnist) is deprecated and will be removed in a future version.\n",
      "Instructions for updating:\n",
      "Please use tf.one_hot on tensors.\n",
      "Successfully downloaded t10k-images-idx3-ubyte.gz 1648877 bytes.\n",
      "Extracting data/MNIST_data/t10k-images-idx3-ubyte.gz\n",
      "Successfully downloaded t10k-labels-idx1-ubyte.gz 4542 bytes.\n",
      "Extracting data/MNIST_data/t10k-labels-idx1-ubyte.gz\n",
      "WARNING:tensorflow:From /home/hitarth/anaconda3/envs/cs566/lib/python3.7/site-packages/tensorflow/contrib/learn/python/learn/datasets/mnist.py:290: DataSet.__init__ (from tensorflow.contrib.learn.python.learn.datasets.mnist) is deprecated and will be removed in a future version.\n",
      "Instructions for updating:\n",
      "Please use alternatives such as official/mnist/dataset.py from tensorflow/models.\n"
     ]
    }
   ],
   "source": [
    "mnist = input_data.read_data_sets(os.path.join('data', 'MNIST_data'), one_hot=True)"
   ]
  },
  {
   "cell_type": "code",
   "execution_count": 18,
   "metadata": {},
   "outputs": [
    {
     "name": "stdout",
     "output_type": "stream",
     "text": [
      "WARNING:tensorflow:Entity <bound method Conv.call of <tensorflow.python.layers.convolutional.Conv2D object at 0x7fea9b9c1190>> could not be transformed and will be executed as-is. Please report this to the AutgoGraph team. When filing the bug, set the verbosity to 10 (on Linux, `export AUTOGRAPH_VERBOSITY=10`) and attach the full output. Cause: converting <bound method Conv.call of <tensorflow.python.layers.convolutional.Conv2D object at 0x7fea9b9c1190>>: AssertionError: Bad argument number for Name: 3, expecting 4\n",
      "WARNING: Entity <bound method Conv.call of <tensorflow.python.layers.convolutional.Conv2D object at 0x7fea9b9c1190>> could not be transformed and will be executed as-is. Please report this to the AutgoGraph team. When filing the bug, set the verbosity to 10 (on Linux, `export AUTOGRAPH_VERBOSITY=10`) and attach the full output. Cause: converting <bound method Conv.call of <tensorflow.python.layers.convolutional.Conv2D object at 0x7fea9b9c1190>>: AssertionError: Bad argument number for Name: 3, expecting 4\n",
      "WARNING:tensorflow:Entity <bound method Pooling2D.call of <tensorflow.python.layers.pooling.MaxPooling2D object at 0x7fea9b9bfe90>> could not be transformed and will be executed as-is. Please report this to the AutgoGraph team. When filing the bug, set the verbosity to 10 (on Linux, `export AUTOGRAPH_VERBOSITY=10`) and attach the full output. Cause: converting <bound method Pooling2D.call of <tensorflow.python.layers.pooling.MaxPooling2D object at 0x7fea9b9bfe90>>: AssertionError: Bad argument number for Name: 3, expecting 4\n",
      "WARNING: Entity <bound method Pooling2D.call of <tensorflow.python.layers.pooling.MaxPooling2D object at 0x7fea9b9bfe90>> could not be transformed and will be executed as-is. Please report this to the AutgoGraph team. When filing the bug, set the verbosity to 10 (on Linux, `export AUTOGRAPH_VERBOSITY=10`) and attach the full output. Cause: converting <bound method Pooling2D.call of <tensorflow.python.layers.pooling.MaxPooling2D object at 0x7fea9b9bfe90>>: AssertionError: Bad argument number for Name: 3, expecting 4\n",
      "WARNING:tensorflow:Entity <bound method Conv.call of <tensorflow.python.layers.convolutional.Conv2D object at 0x7fea9b9c1d90>> could not be transformed and will be executed as-is. Please report this to the AutgoGraph team. When filing the bug, set the verbosity to 10 (on Linux, `export AUTOGRAPH_VERBOSITY=10`) and attach the full output. Cause: converting <bound method Conv.call of <tensorflow.python.layers.convolutional.Conv2D object at 0x7fea9b9c1d90>>: AssertionError: Bad argument number for Name: 3, expecting 4\n",
      "WARNING: Entity <bound method Conv.call of <tensorflow.python.layers.convolutional.Conv2D object at 0x7fea9b9c1d90>> could not be transformed and will be executed as-is. Please report this to the AutgoGraph team. When filing the bug, set the verbosity to 10 (on Linux, `export AUTOGRAPH_VERBOSITY=10`) and attach the full output. Cause: converting <bound method Conv.call of <tensorflow.python.layers.convolutional.Conv2D object at 0x7fea9b9c1d90>>: AssertionError: Bad argument number for Name: 3, expecting 4\n",
      "WARNING:tensorflow:Entity <bound method Pooling2D.call of <tensorflow.python.layers.pooling.MaxPooling2D object at 0x7fea9b9c1bd0>> could not be transformed and will be executed as-is. Please report this to the AutgoGraph team. When filing the bug, set the verbosity to 10 (on Linux, `export AUTOGRAPH_VERBOSITY=10`) and attach the full output. Cause: converting <bound method Pooling2D.call of <tensorflow.python.layers.pooling.MaxPooling2D object at 0x7fea9b9c1bd0>>: AssertionError: Bad argument number for Name: 3, expecting 4\n",
      "WARNING: Entity <bound method Pooling2D.call of <tensorflow.python.layers.pooling.MaxPooling2D object at 0x7fea9b9c1bd0>> could not be transformed and will be executed as-is. Please report this to the AutgoGraph team. When filing the bug, set the verbosity to 10 (on Linux, `export AUTOGRAPH_VERBOSITY=10`) and attach the full output. Cause: converting <bound method Pooling2D.call of <tensorflow.python.layers.pooling.MaxPooling2D object at 0x7fea9b9c1bd0>>: AssertionError: Bad argument number for Name: 3, expecting 4\n",
      "WARNING:tensorflow:Entity <bound method Conv.call of <tensorflow.python.layers.convolutional.Conv2D object at 0x7fea9b9505d0>> could not be transformed and will be executed as-is. Please report this to the AutgoGraph team. When filing the bug, set the verbosity to 10 (on Linux, `export AUTOGRAPH_VERBOSITY=10`) and attach the full output. Cause: converting <bound method Conv.call of <tensorflow.python.layers.convolutional.Conv2D object at 0x7fea9b9505d0>>: AssertionError: Bad argument number for Name: 3, expecting 4\n",
      "WARNING: Entity <bound method Conv.call of <tensorflow.python.layers.convolutional.Conv2D object at 0x7fea9b9505d0>> could not be transformed and will be executed as-is. Please report this to the AutgoGraph team. When filing the bug, set the verbosity to 10 (on Linux, `export AUTOGRAPH_VERBOSITY=10`) and attach the full output. Cause: converting <bound method Conv.call of <tensorflow.python.layers.convolutional.Conv2D object at 0x7fea9b9505d0>>: AssertionError: Bad argument number for Name: 3, expecting 4\n",
      "WARNING:tensorflow:Entity <bound method Dropout.call of <tensorflow.python.layers.core.Dropout object at 0x7feac2d96310>> could not be transformed and will be executed as-is. Please report this to the AutgoGraph team. When filing the bug, set the verbosity to 10 (on Linux, `export AUTOGRAPH_VERBOSITY=10`) and attach the full output. Cause: converting <bound method Dropout.call of <tensorflow.python.layers.core.Dropout object at 0x7feac2d96310>>: AssertionError: Bad argument number for Name: 3, expecting 4\n",
      "WARNING: Entity <bound method Dropout.call of <tensorflow.python.layers.core.Dropout object at 0x7feac2d96310>> could not be transformed and will be executed as-is. Please report this to the AutgoGraph team. When filing the bug, set the verbosity to 10 (on Linux, `export AUTOGRAPH_VERBOSITY=10`) and attach the full output. Cause: converting <bound method Dropout.call of <tensorflow.python.layers.core.Dropout object at 0x7feac2d96310>>: AssertionError: Bad argument number for Name: 3, expecting 4\n",
      "WARNING:tensorflow:From /home/hitarth/anaconda3/envs/cs566/lib/python3.7/site-packages/tensorflow/contrib/layers/python/layers/layers.py:1634: flatten (from tensorflow.python.layers.core) is deprecated and will be removed in a future version.\n",
      "Instructions for updating:\n",
      "Use keras.layers.flatten instead.\n",
      "WARNING:tensorflow:Entity <bound method Flatten.call of <tensorflow.python.layers.core.Flatten object at 0x7fea9b950d10>> could not be transformed and will be executed as-is. Please report this to the AutgoGraph team. When filing the bug, set the verbosity to 10 (on Linux, `export AUTOGRAPH_VERBOSITY=10`) and attach the full output. Cause: converting <bound method Flatten.call of <tensorflow.python.layers.core.Flatten object at 0x7fea9b950d10>>: AttributeError: module 'gast' has no attribute 'Num'\n",
      "WARNING: Entity <bound method Flatten.call of <tensorflow.python.layers.core.Flatten object at 0x7fea9b950d10>> could not be transformed and will be executed as-is. Please report this to the AutgoGraph team. When filing the bug, set the verbosity to 10 (on Linux, `export AUTOGRAPH_VERBOSITY=10`) and attach the full output. Cause: converting <bound method Flatten.call of <tensorflow.python.layers.core.Flatten object at 0x7fea9b950d10>>: AttributeError: module 'gast' has no attribute 'Num'\n",
      "WARNING:tensorflow:Entity <bound method Dense.call of <tensorflow.python.layers.core.Dense object at 0x7fea9b8ccdd0>> could not be transformed and will be executed as-is. Please report this to the AutgoGraph team. When filing the bug, set the verbosity to 10 (on Linux, `export AUTOGRAPH_VERBOSITY=10`) and attach the full output. Cause: converting <bound method Dense.call of <tensorflow.python.layers.core.Dense object at 0x7fea9b8ccdd0>>: AssertionError: Bad argument number for Name: 3, expecting 4\n",
      "WARNING: Entity <bound method Dense.call of <tensorflow.python.layers.core.Dense object at 0x7fea9b8ccdd0>> could not be transformed and will be executed as-is. Please report this to the AutgoGraph team. When filing the bug, set the verbosity to 10 (on Linux, `export AUTOGRAPH_VERBOSITY=10`) and attach the full output. Cause: converting <bound method Dense.call of <tensorflow.python.layers.core.Dense object at 0x7fea9b8ccdd0>>: AssertionError: Bad argument number for Name: 3, expecting 4\n"
     ]
    }
   ],
   "source": [
    "tf.reset_default_graph()\n",
    "\n",
    "x = tf.placeholder(tf.float32, [None, 784],name=\"x-in\")\n",
    "y = tf.placeholder(tf.float32, [None, 10],name=\"y-in\")\n",
    "keep_prob = tf.placeholder(\"float\")\n",
    "\n",
    "x_reshaped = tf.reshape(x,[-1,28,28,1])\n",
    "x_tiled = tf.tile(x_reshaped, [1,1,1,3])\n",
    "sconv_1 = slim.conv2d(x_tiled,5,[5,5], activation_fn=None)\n",
    "srelu_1 = tf.nn.relu(sconv_1)\n",
    "spool_1 = slim.max_pool2d(srelu_1,[2,2])\n",
    "\n",
    "sconv_2 = slim.conv2d(spool_1,5,[5,5], activation_fn=None)\n",
    "srelu_2 = tf.nn.relu(sconv_2)\n",
    "spool_2 = slim.max_pool2d(srelu_2,[2,2])\n",
    "\n",
    "sconv_3 = slim.conv2d(spool_2,20,[5,5], activation_fn=None)\n",
    "srelu_3 = tf.nn.relu(srelu_2)\n",
    "s_dropout3 = slim.dropout(srelu_3, keep_prob)\n",
    "output = slim.fully_connected(slim.flatten(s_dropout3), 10, activation_fn=tf.nn.softmax)\n",
    "\n",
    "cross_entropy = -tf.reduce_sum(y * tf.log(output))\n",
    "correct_prediction = tf.equal(tf.argmax(output,1 ), tf.argmax(y, 1))\n",
    "accuracy = tf.reduce_mean(tf.cast(correct_prediction, \"float\"))\n",
    "train_step = tf.train.AdamOptimizer(1e-4).minimize(cross_entropy)"
   ]
  },
  {
   "cell_type": "code",
   "execution_count": 19,
   "metadata": {},
   "outputs": [
    {
     "name": "stdout",
     "output_type": "stream",
     "text": [
      "step 100, training accuracy 0.32\n",
      "step 200, training accuracy 0.56\n",
      "step 300, training accuracy 0.78\n",
      "step 400, training accuracy 0.8\n",
      "step 500, training accuracy 0.82\n",
      "step 600, training accuracy 0.92\n",
      "step 700, training accuracy 0.96\n",
      "step 800, training accuracy 0.9\n",
      "step 900, training accuracy 0.88\n",
      "step 1000, training accuracy 0.9\n",
      "step 1100, training accuracy 0.88\n",
      "step 1200, training accuracy 0.9\n",
      "step 1300, training accuracy 0.9\n",
      "step 1400, training accuracy 0.82\n",
      "step 1500, training accuracy 0.88\n",
      "step 1600, training accuracy 0.9\n",
      "step 1700, training accuracy 0.86\n",
      "step 1800, training accuracy 0.94\n",
      "step 1900, training accuracy 0.92\n",
      "step 2000, training accuracy 0.9\n"
     ]
    }
   ],
   "source": [
    "batchSize = 50\n",
    "dropout_p = 0.5\n",
    "\n",
    "sess = tf.Session()\n",
    "init = tf.global_variables_initializer()\n",
    "sess.run(init)\n",
    "\n",
    "# Train the network\n",
    "for i in range(2001):\n",
    "    batch = mnist.train.next_batch(batchSize)\n",
    "    sess.run(train_step, feed_dict={x:batch[0], y:batch[1], keep_prob:dropout_p})\n",
    "    if i % 100 == 0 and i != 0:\n",
    "        trainAccuracy = sess.run(accuracy, feed_dict={x:batch[0], y:batch[1], keep_prob:1.0})\n",
    "        print(\"step %d, training accuracy %g\"%(i, trainAccuracy))"
   ]
  },
  {
   "cell_type": "code",
   "execution_count": 20,
   "metadata": {},
   "outputs": [
    {
     "name": "stdout",
     "output_type": "stream",
     "text": [
      "test accuracy 0.928600013256073\n"
     ]
    }
   ],
   "source": [
    "testAccuracy = sess.run(accuracy, feed_dict={x:mnist.test.images,y:mnist.test.labels, keep_prob:1.0})\n",
    "print(\"test accuracy {}\".format(testAccuracy))"
   ]
  },
  {
   "cell_type": "code",
   "execution_count": 21,
   "metadata": {},
   "outputs": [],
   "source": [
    "# function for visualizing the activations\n",
    "def getActivations_mnist(layer, features):\n",
    "    outs = sess.run(layer, feed_dict={x:np.reshape(features,[1,784],order='F'), keep_prob:1.0})\n",
    "    outs = np.transpose(outs, [3, 1, 2, 0])\n",
    "    fig = plt.figure(figsize=(4,4))   \n",
    "    ax1 = plt.subplot(111)\n",
    "    grid = viz_grid(outs)\n",
    "    ax1.imshow(grid[...,0])\n",
    "    ax1.set_title('{} Activations'.format(layer.name), fontsize=16)"
   ]
  },
  {
   "cell_type": "code",
   "execution_count": 22,
   "metadata": {},
   "outputs": [
    {
     "name": "stdout",
     "output_type": "stream",
     "text": [
      "The Image for activation visualizations:\n"
     ]
    },
    {
     "data": {
      "image/png": "[encoded data removed]",
      "text/plain": [
       "<Figure size 432x288 with 1 Axes>"
      ]
     },
     "metadata": {
      "needs_background": "light"
     },
     "output_type": "display_data"
    }
   ],
   "source": [
    "imageToUse = mnist.test.images[0]\n",
    "imageToShow = np.expand_dims(np.reshape(imageToUse,[28,28]), axis=-1)\n",
    "imageToShow = np.tile(imageToShow, (1,1,3))\n",
    "plt.imshow(imageToShow, interpolation=\"nearest\", cmap=\"gray\")\n",
    "print (\"The Image for activation visualizations:\")"
   ]
  },
  {
   "cell_type": "code",
   "execution_count": 23,
   "metadata": {},
   "outputs": [
    {
     "data": {
      "image/png": "[encoded data removed]",
      "text/plain": [
       "<Figure size 288x288 with 1 Axes>"
      ]
     },
     "metadata": {
      "needs_background": "light"
     },
     "output_type": "display_data"
    },
    {
     "data": {
      "image/png": "[encoded data removed]",
      "text/plain": [
       "<Figure size 288x288 with 1 Axes>"
      ]
     },
     "metadata": {
      "needs_background": "light"
     },
     "output_type": "display_data"
    },
    {
     "data": {
      "image/png": "[encoded data removed]",
      "text/plain": [
       "<Figure size 288x288 with 1 Axes>"
      ]
     },
     "metadata": {
      "needs_background": "light"
     },
     "output_type": "display_data"
    }
   ],
   "source": [
    "# Visualize the first 3 activation maps after convolution layers (without ReLU)\n",
    "getActivations_mnist(sconv_1, imageToUse)\n",
    "getActivations_mnist(sconv_2, imageToUse)\n",
    "getActivations_mnist(sconv_3, imageToUse)"
   ]
  },
  {
   "cell_type": "markdown",
   "metadata": {},
   "source": [
    "## Visualize the activations on your own model [4pt]\n",
    "Now repeat the above procedure on your own model."
   ]
  },
  {
   "cell_type": "code",
   "execution_count": null,
   "metadata": {},
   "outputs": [],
   "source": [
    "def getActivations_cifar10(layer, input_batch):\n",
    "    #############################################################################\n",
    "    # TODO: Fill out the following block for running the session                #\n",
    "    # Hint: feed input to your model                                            #\n",
    "    #############################################################################\n",
    "    units = None\n",
    "    \n",
    "    # Define the figure\n",
    "    fig = plt.figure(figsize=(8,8))   \n",
    "    ax1 = plt.subplot(111)\n",
    "    grid = viz_grid(units)\n",
    "    ax1.imshow(grid[...,0])\n",
    "    ax1.set_title('{} Activations'.format(layer.name), fontsize=16)"
   ]
  },
  {
   "cell_type": "code",
   "execution_count": null,
   "metadata": {
    "scrolled": false
   },
   "outputs": [],
   "source": [
    "print (\"There are total {} images in test set\".format(len(data_test)))\n",
    "query_idx = 998\n",
    "#############################################################################\n",
    "# TODO: Try out some images from dataset by uncommenting the line below.    #\n",
    "# Comment it back before submission!                                        #\n",
    "#############################################################################\n",
    "# query_idx = np.random.randint(0,999)\n",
    "\n",
    "# Process the indicated issue\n",
    "query_idx = min(max(query_idx, 0), 999)\n",
    "cifar10ToUse = data_test[query_idx].astype(np.uint8)\n",
    "cifar10ToUse= cifar10ToUse[...,::-1]\n",
    "plt.imshow(cifar10ToUse)\n",
    "print (\"Image {} in test set\".format(query_idx))"
   ]
  },
  {
   "cell_type": "code",
   "execution_count": null,
   "metadata": {
    "scrolled": false
   },
   "outputs": [],
   "source": [
    "tf.reset_default_graph()\n",
    "sess = tf.Session()\n",
    "\n",
    "# Restore the model using parameters dict\n",
    "model = BaseModel()\n",
    "restore_model('csci-599_sample.ckpt')"
   ]
  },
  {
   "cell_type": "code",
   "execution_count": null,
   "metadata": {},
   "outputs": [],
   "source": [
    "cifar10ToUse_with_batch = np.expand_dims(cifar10ToUse, axis=0)\n",
    "####################################################################\n",
    "# TODO: Visualize the activations of each conv layer in your model #\n",
    "# by calling the visualization function you implemented.           #\n",
    "####################################################################\n"
   ]
  },
  {
   "cell_type": "markdown",
   "metadata": {},
   "source": [
    "### Inline Question: Describe your observation of how the activation changes across layers as we traverse through the network. [2pt]\n",
    "#### Ans:"
   ]
  },
  {
   "cell_type": "markdown",
   "metadata": {},
   "source": [
    "## Gradient-weighted Class Activation Mapping (Grad-CAM)\n",
    "Grad-CAM is a technique for \"visually interpreting\" the predictions of a Convolutional Neural\n",
    "Network (CNN)-based model. This technique essentially uses the gradients of any target concept\n",
    "(a predicted class such as \"cat\"), flowing into the final convolutional layer to produce a coarse localization\n",
    "map, attending regions in the image that are important for prediction of the concept.\n",
    "Please read the original paper [Grad-CAM](https://arxiv.org/abs/1610.02391) for more details."
   ]
  },
  {
   "cell_type": "markdown",
   "metadata": {},
   "source": [
    "### Register the guided backpropagation ReLU (Run this function only once)"
   ]
  },
  {
   "cell_type": "code",
   "execution_count": null,
   "metadata": {},
   "outputs": [],
   "source": [
    "# Replace vanila relu to guided relu to get guided backpropagation.\n",
    "@ops.RegisterGradient(\"GuidedRelu\")\n",
    "def _GuidedReluGrad(op, grad):\n",
    "    return tf.where(0. < grad, gen_nn_ops.relu_grad(grad, op.outputs[0]), tf.zeros(grad.get_shape()))"
   ]
  },
  {
   "cell_type": "markdown",
   "metadata": {},
   "source": [
    "### Some useful functions"
   ]
  },
  {
   "cell_type": "code",
   "execution_count": null,
   "metadata": {},
   "outputs": [],
   "source": [
    "import cv2\n",
    "\n",
    "def imgread(path):\n",
    "    print (\"Image:\", path.split(\"/\")[-1])\n",
    "    # Read in the image using python opencv\n",
    "    img = cv2.imread(path)\n",
    "    img = img / 255.0\n",
    "    print (\"Raw Image Shape: \", img.shape)\n",
    "    \n",
    "    # Center crop the image\n",
    "    short_edge = min(img.shape[:2])\n",
    "    W, H, C = img.shape\n",
    "    to_crop = min(W, H)\n",
    "    cent_w = int((img.shape[1] - short_edge) / 2)\n",
    "    cent_h = int((img.shape[0] - short_edge) / 2)\n",
    "    img_cropped = img[cent_h:cent_h+to_crop, cent_w:cent_w+to_crop]\n",
    "    print (\"Cropped Image Shape: \", img_cropped.shape)\n",
    "    \n",
    "    # Resize the cropped image to 224 by 224 for VGG16 network\n",
    "    img_resized = cv2.resize(img_cropped, (224, 224), interpolation=cv2.INTER_LINEAR)\n",
    "    print (\"Resized Image Shape: \", img_resized.shape)\n",
    "    return img_resized\n",
    "\n",
    "def predicted_labels(score, synset_path):\n",
    "    fi = open(synset_path, \"rb\")\n",
    "    synset = []\n",
    "    for line in fi:\n",
    "        synset.append(line.rstrip().lstrip())\n",
    "    \n",
    "    # The predictions, reverse ordered\n",
    "    pred = np.argsort(score)[::-1]\n",
    "\n",
    "    # Top 1 and Top 5\n",
    "    top1 = synset[pred[0]]\n",
    "    print (\"\\nTop1, Label: {}, score: {}\".format(top1, score[pred[0]]))\n",
    "    top5 = [(synset[pred[i]], score[pred[i]]) for i in range(5)]\n",
    "    for i in range(1,5):\n",
    "        print (\"Top{}, Label: {} score: {}\".format(i+1, top5[i][0], top5[i][1]))\n",
    "    return top1, top5"
   ]
  },
  {
   "cell_type": "markdown",
   "metadata": {},
   "source": [
    "### Visualization Function"
   ]
  },
  {
   "cell_type": "code",
   "execution_count": null,
   "metadata": {},
   "outputs": [],
   "source": [
    "def visualize(image, output, grads, gb_grads):\n",
    "    # Reverse the BGR channel to RGB\n",
    "    gb_grads = gb_grads[...,::-1]\n",
    "\n",
    "    # Initialzie CAM weights\n",
    "    CAM = np.ones(output.shape[0 : 2], dtype = np.float32)  \n",
    "\n",
    "    # Taking a weighted average\n",
    "    cam_w = np.mean(grads, axis = (0, 1))\n",
    "    for i, w in enumerate(cam_w):\n",
    "        CAM += w * output[:, :, i]\n",
    "\n",
    "    # Passing through ReLU\n",
    "    CAM = np.maximum(CAM, 0)\n",
    "    # scale CAM to [0,1]\n",
    "    CAM /= np.max(CAM)\n",
    "    # Resize the CAM to 224 by 224\n",
    "    CAM = cv2.resize(CAM, (224, 224), interpolation=cv2.INTER_LINEAR)\n",
    "    \n",
    "    # scale guided backprop gradients to [0,1]\n",
    "    gb_grads -= np.min(gb_grads)\n",
    "    gb_grads /= np.max(gb_grads)\n",
    "    \n",
    "    # scale the original to [0,1]\n",
    "    img_toshow = image.astype(float)    \n",
    "    img_toshow -= np.min(img_toshow)\n",
    "    img_toshow /= img_toshow.max()\n",
    "\n",
    "    # Render the CAM heatmap\n",
    "    heatmap = cv2.applyColorMap(255 - np.uint8(CAM*255.0), cv2.COLORMAP_JET)\n",
    "\n",
    "    # Grad-CAM\n",
    "    CAM_gb = CAM.copy()\n",
    "    CAM_gb = np.expand_dims(np.squeeze(CAM_gb), axis=-1)\n",
    "    gd_gb = img_toshow[...,::-1] * np.tile(CAM_gb, (1,1,3))\n",
    "    \n",
    "    # Draw the results figures\n",
    "    fig = plt.figure(figsize=(10,10))   \n",
    "    ax1 = plt.subplot(221)\n",
    "    ax2 = plt.subplot(222)\n",
    "    ax3 = plt.subplot(223)\n",
    "    ax4 = plt.subplot(224)\n",
    "    \n",
    "    ax1.imshow(img_toshow[...,::-1])\n",
    "    ax1.set_title('Input Image')\n",
    "    ax2.imshow(heatmap)\n",
    "    ax2.set_title('Grad-CAM')\n",
    "    ax3.imshow(gb_grads)\n",
    "    ax3.set_title('guided backpropagation')\n",
    "    ax4.imshow(gd_gb)\n",
    "    ax4.set_title('guided Grad-CAM')\n",
    "\n",
    "    # Show the resulting image\n",
    "    plt.show()"
   ]
  },
  {
   "cell_type": "markdown",
   "metadata": {},
   "source": [
    "### Grad-CAM Main Implementation [6pt]\n",
    "\n",
    "In this section, you will implement the visualization with GRAD-CAM over a pretrained VGG network.\n",
    "\n",
    "Carefully read lib/tf_models/vgg.py for how to extract VGG layers.\n",
    "You can extract layers or labels from VGG by accessing with the name.\n",
    "\n",
    "e.g. vgg.conv2_2 extracts second convolution filter in conv2 family."
   ]
  },
  {
   "cell_type": "code",
   "execution_count": null,
   "metadata": {
    "scrolled": false
   },
   "outputs": [],
   "source": [
    "num_classes = 1000\n",
    "\n",
    "# Read in the image\n",
    "img1 = imgread(os.path.join(\"images\", \"corgi.jpg\"))\n",
    "img2 = imgread(os.path.join(\"images\", \"cat_and_dog.jpg\"))\n",
    "img3 = imgread(os.path.join(\"images\", \"cat_and_dog.jpg\"))\n",
    "\n",
    "# Expand one dimension to take on the batch dimension\n",
    "img1 = np.expand_dims(img1, axis=0)\n",
    "img2 = np.expand_dims(img2, axis=0)\n",
    "img3 = np.expand_dims(img3, axis=0)\n",
    "\n",
    "# Define a all zero gradients of the shape 1000\n",
    "zero_grads = np.array([0 for i in range(num_classes)])\n",
    "\n",
    "# The indices of the classes are provided for you\n",
    "class_num1 = 263  # Pembroke, Pembroke Welsh corgi\n",
    "class_num2 = 254  # Pug, pug-dog\n",
    "class_num3 = 282  # Tiger cat\n",
    "\n",
    "# Define a one-hot gradient vector where the only activated gradient\n",
    "# is of the corresponding indices from above \n",
    "one_hot_grad1 = zero_grads.copy()\n",
    "one_hot_grad2 = zero_grads.copy()\n",
    "one_hot_grad3 = zero_grads.copy()\n",
    "one_hot_grad1[class_num1] = 1.0\n",
    "one_hot_grad2[class_num2] = 1.0\n",
    "one_hot_grad3[class_num3] = 1.0\n",
    "one_hot_grad1 = np.expand_dims(one_hot_grad1, axis=0)\n",
    "one_hot_grad2 = np.expand_dims(one_hot_grad2, axis=0)\n",
    "one_hot_grad3 = np.expand_dims(one_hot_grad3, axis=0)\n",
    "\n",
    "#############################################################################\n",
    "# TODO: Construct a minibatch of data and labels of the                     #\n",
    "# images using np.concatenate                                               #\n",
    "#############################################################################\n",
    "minibatch = None\n",
    "labels = None\n",
    "\n",
    "\n",
    "# Define the batch size\n",
    "batch_size = 3\n",
    "\n",
    "# Create tensorflow graph for evaluation\n",
    "graph = tf.Graph()\n",
    "with graph.as_default():\n",
    "    with graph.gradient_override_map({'Relu': 'GuidedRelu'}):\n",
    "        # Define the VGG16 network and setup\n",
    "        # Please take a look at the lib/tf_models/vgg16.py for more details\n",
    "        # of the VGG16 network\n",
    "        vgg = vgg16.Vgg16()\n",
    "        vgg.load()\n",
    "        vgg.setup()\n",
    "        \n",
    "        #############################################################################\n",
    "        # TODO: Implement the signal and the loss                                   #\n",
    "        #                                                                           #\n",
    "        # Signal: Element-wise multiplication of final fully connected layer (fc8)  #\n",
    "        # with the one-hot vector of labels.                                        #\n",
    "        # Loss: Average of the Signal                                               #\n",
    "        # Hint: Use tf.reduce_mean() function                                       #\n",
    "        #############################################################################\n",
    "        signal = None\n",
    "        loss = None\n",
    "\n",
    "        #############################################################################\n",
    "        # TODO: Compute the gradient of loss with respect to pool5 layer.           #\n",
    "        # Hint: Use tf.gradients() and take the first element of output list        #\n",
    "        #############################################################################\n",
    "        pool5_grad = None\n",
    "\n",
    "        #############################################################################\n",
    "        # TODO: Compute the gradient of loss with respect to input layer.           #\n",
    "        # This is the guided backpropagated gradient                                #\n",
    "        #############################################################################\n",
    "        inputs_grad = None\n",
    "\n",
    "        eps = tf.constant(1e-5)\n",
    "        #############################################################################\n",
    "        # TODO: Normalize the gradients, and add a small number epsilon to it       #\n",
    "        # Hint: Divide by norm                                                      #\n",
    "        #############################################################################\n",
    "        pool5_grad_normed = None\n",
    "\n",
    "        #############################################################################\n",
    "        # TODO: Initializer for the tf variables                                    #\n",
    "        #############################################################################\n",
    "        \n",
    "\n",
    "# Run tensorflow \n",
    "with tf.Session(graph=graph) as sess:    \n",
    "    sess.run(init)\n",
    "    #############################################################################\n",
    "    # TODO: Run the session to get                                              #\n",
    "    # (1) guided backpropagated gradients to the input                          #\n",
    "    # (2) activation of pool5 (from vgg)                                        #\n",
    "    # (3) normalized pool5 gradients                                            #\n",
    "    # (4) output probabilities (from vgg)                                       #\n",
    "    # Feed as input: batch of images and labels                                 #\n",
    "    #############################################################################\n",
    "    gb_grads, pool5_act, pool5_grads, prob = None\n",
    "    \n",
    "    # Visualize the Grad-CAM\n",
    "    for i in range(batch_size):\n",
    "        top1, top5 = predicted_labels(prob[i], os.path.join(\"lib\", \"synset.txt\"))\n",
    "        visualize(minibatch[i], pool5_act[i], pool5_grads[i], gb_grads[i])"
   ]
  },
  {
   "cell_type": "markdown",
   "metadata": {
    "collapsed": true
   },
   "source": [
    "### Inline Question: Describe your observation of the above results. What can you infer from these visualizations? [2pt]\n",
    "#### Ans:"
   ]
  },
  {
   "cell_type": "code",
   "execution_count": null,
   "metadata": {},
   "outputs": [],
   "source": []
  }
 ],
 "metadata": {
  "kernelspec": {
   "display_name": "Python 3",
   "language": "python",
   "name": "python3"
  },
  "language_info": {
   "codemirror_mode": {
    "name": "ipython",
    "version": 3
   },
   "file_extension": ".py",
   "mimetype": "text/x-python",
   "name": "python",
   "nbconvert_exporter": "python",
   "pygments_lexer": "ipython3",
   "version": "3.7.4"
  }
 },
 "nbformat": 4,
 "nbformat_minor": 1
}
